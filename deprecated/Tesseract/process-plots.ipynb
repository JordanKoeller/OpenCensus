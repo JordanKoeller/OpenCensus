{
 "nbformat": 4,
 "nbformat_minor": 2,
 "metadata": {
  "language_info": {
   "name": "python",
   "codemirror_mode": {
    "name": "ipython",
    "version": 3
   }
  },
  "orig_nbformat": 2,
  "file_extension": ".py",
  "mimetype": "text/x-python",
  "name": "python",
  "npconvert_exporter": "python",
  "pygments_lexer": "ipython3",
  "version": 3
 },
 "cells": [
  {
   "cell_type": "markdown",
   "execution_count": null,
   "metadata": {},
   "outputs": [],
   "source": [
    "# Processing the raw data.\n",
    "\n",
    "This jupyter notebook uses Google's Tesseract open source project to convert a pdf containing many charts into a collection of CSV files.\n",
    "\n",
    "## Methodology\n",
    "\n",
    "Attempts to use `tesseract` without any pre-Processing led to a lot of issues. To confront this I process the charts as follows:\n",
    "\n",
    "  + Convert the pdf to a high-dpi png using Pillow.\n",
    "  + Analyze the pixels of the png. Search for vertical straight lines to identify columns.\n",
    "  + Chop the png into strips, where each strip is a column of data.\n",
    "  + Run the column through tesseract. Tesseract converts it to a column of text.\n",
    "  + Repeat for each strip, building a representation of the data in a format that can be exported to CSV. Note that these are still strings. `tesseract` is fairly accurate but often gets the commas and stray marks in the data miss-interperited.\n",
    "  + Lastly, I look at the CSV, look for mistakes, and correct them."
   ]
  },
  {
   "cell_type": "code",
   "execution_count": 1,
   "metadata": {},
   "outputs": [],
   "source": [
    "# Import block.\n",
    "import pytesseract\n",
    "import csv\n",
    "from PIL import Image\n",
    "import numpy as np\n",
    "# %matplotlib notebook\n",
    "from matplotlib import pyplot as plt\n"
   ]
  },
  {
   "cell_type": "code",
   "execution_count": 2,
   "metadata": {},
   "outputs": [],
   "source": [
    "# Convert a specific page of the pdf to png.\n",
    "import pdf2image\n",
    "def getPngPage(index: int) -> Image:\n",
    "    filePath = './colonial-1970-migration.pdf'\n",
    "    tmp = pdf2image.convert_from_path(\n",
    "        filePath,\n",
    "        output_file='./colonial_%d' % index,\n",
    "        dpi=600,\n",
    "        first_page=index,\n",
    "        last_page=index,\n",
    "        grayscale=True\n",
    "    )[0]\n",
    "    tmpData = np.asarray(tmp)\n",
    "    return Image.fromarray((tmpData > 128).astype(np.uint8)*255)\n"
   ]
  },
  {
   "cell_type": "code",
   "execution_count": 3,
   "metadata": {},
   "outputs": [],
   "source": [
    "# Algorithm for finding what's a good threshold of pixel values to identify column divisions in the graph.\n",
    "def findThreshold() -> int:\n",
    "    chart1 = getPngPage(19)\n",
    "    rawData = np.asarray(chart1)\n",
    "    height, width = rawData.shape\n",
    "    summed = [rawData[:,i].sum() for i in range(width)]\n",
    "    return 800000/(height*255)\n",
    "threshold = findThreshold()\n",
    "# Found a reasonable threshold of less than 800,000\n",
    "\n",
    "def extractColumnsInds(data: np.ndarray) -> [[int]]:\n",
    "    # First get all columns below threshold\n",
    "    height, width = data.shape\n",
    "    summedValues = np.array([data[:,i].sum()/(height*255) for i in range(width)])\n",
    "    lineIndices = np.where(summedValues < threshold)[0]\n",
    "    # Now I need to remove duplicates - perhaps there were two pixel columns that passed the threshold that are really one table column.\n",
    "    ret = []\n",
    "    colStart, colEnd = (0, 0)\n",
    "    for index in range(len(lineIndices)-1):\n",
    "        nextInd = index + 1\n",
    "        if lineIndices[nextInd] > lineIndices[index] + 200:\n",
    "            ret.append([lineIndices[index], lineIndices[nextInd]])\n",
    "    return ret\n",
    "\n",
    "def getRowInds(data: np.ndarray) -> [int]:\n",
    "    height, width = data.shape\n",
    "    rowThreshold = 0.97\n",
    "    rowSums = np.array([data[i,:].sum()/(width*255) for i in range(height)])\n",
    "    aboveThreshold = np.where(rowSums > rowThreshold)[0]\n",
    "    ret = []\n",
    "    summation = 0\n",
    "    counter = 1\n",
    "    for index in range(len(aboveThreshold)-1):\n",
    "        if aboveThreshold[index + 1] == aboveThreshold[index] + 1:\n",
    "            counter += 1\n",
    "            summation += aboveThreshold[index]\n",
    "        else:\n",
    "            ret.append(int(summation/counter))\n",
    "            counter = 1\n",
    "            summation = 0\n",
    "    return ret\n",
    "\n",
    "def removeHeader(data: Image) -> Image:\n",
    "    npData = np.asarray(data)\n",
    "    height, width = npData.shape\n",
    "    topThird = npData[:height // 3,:]\n",
    "    sums = np.array([topThird[i,:].sum() for i in range(topThird.shape[0])])\n",
    "    lastLine = np.where(sums < 20000)[0].max()\n",
    "    return Image.fromarray(npData[lastLine:,:])\n"
   ]
  },
  {
   "cell_type": "code",
   "execution_count": 4,
   "metadata": {},
   "outputs": [],
   "source": [
    "tesseractConfig = \"--psm 13 --oem 1 -c tessedit_char_whitelist=0123456789.,`\\\\'\\\\\\\"\"\n",
    "\n",
    "def getTextData(inputImage: Image) -> np.ndarray:\n",
    "    totalData = np.asarray(inputImage)\n",
    "    colInds = extractColumnsInds(totalData)\n",
    "    colImgs = [Image.fromarray(totalData[:,s+1:e]) for s, e in colInds]\n",
    "    dataDump = np.ndarray((1000,1000), dtype=object)\n",
    "    for colI, col in enumerate(colImgs):\n",
    "        noHeader = removeHeader(col)\n",
    "        colData = np.asarray(noHeader)\n",
    "        rowInds = getRowInds(colData)\n",
    "        for ind in range(len(rowInds) - 1):\n",
    "            imgSlice = colData[rowInds[ind]:rowInds[ind+1],:]\n",
    "            try:\n",
    "                img = Image.fromarray(imgSlice)\n",
    "                textCell = pytesseract.image_to_string(img, config=tesseractConfig)\n",
    "                dataDump[ind, colI] = textCell\n",
    "            except:\n",
    "                print(\"EXCEPTION AT (%d,%d)\" % (colI, ind))\n",
    "    return dataDump\n",
    "\n",
    "\n",
    "def getCsv(pageNumber: int) -> [[str]]:\n",
    "    totalImage = getPngPage(pageNumber)\n",
    "    listOfLists = getTextData(totalImage)\n",
    "    return listOfLists\n",
    "    dataDump = np.ndarray((1000, 1000), dtype=object) # Constants from the page in question.\n",
    "    with open('chart_%d.csv' % pageNumber, 'w+') as file:\n",
    "        writer = csv.writer(file)\n",
    "        for i, col in enumerate(listOfLists):\n",
    "            for j, row in enumerate(col):\n",
    "                dataDump[j,i] = listOfLists[i][j]\n",
    "        for rowI in range(80):\n",
    "            writer.writerow(list(dataDump[rowI]))\n",
    "    return dataDump\n"
   ]
  },
  {
   "cell_type": "code",
   "execution_count": 6,
   "metadata": {},
   "outputs": [
    {
     "name": "stdout",
     "output_type": "stream",
     "text": "EXCEPTION AT (0,20)\nEXCEPTION AT (0,22)\nEXCEPTION AT (0,25)\nEXCEPTION AT (0,30)\nEXCEPTION AT (0,35)\nEXCEPTION AT (0,40)\nEXCEPTION AT (0,45)\nEXCEPTION AT (0,50)\nEXCEPTION AT (0,55)\nEXCEPTION AT (0,57)\nEXCEPTION AT (0,60)\nEXCEPTION AT (0,65)\nEXCEPTION AT (0,68)\nEXCEPTION AT (0,70)\nEXCEPTION AT (0,73)\nEXCEPTION AT (0,75)\nEXCEPTION AT (0,76)\nEXCEPTION AT (1,15)\nEXCEPTION AT (1,20)\nEXCEPTION AT (1,25)\nEXCEPTION AT (1,30)\nEXCEPTION AT (1,35)\nEXCEPTION AT (1,36)\nEXCEPTION AT (1,40)\nEXCEPTION AT (1,45)\nEXCEPTION AT (1,48)\nEXCEPTION AT (1,50)\nEXCEPTION AT (1,52)\nEXCEPTION AT (1,55)\nEXCEPTION AT (1,56)\nEXCEPTION AT (1,60)\nEXCEPTION AT (1,62)\nEXCEPTION AT (1,65)\nEXCEPTION AT (1,68)\nEXCEPTION AT (1,70)\nEXCEPTION AT (1,71)\nEXCEPTION AT (1,73)\nEXCEPTION AT (1,75)\nEXCEPTION AT (2,14)\nEXCEPTION AT (2,17)\nEXCEPTION AT (2,20)\nEXCEPTION AT (2,25)\nEXCEPTION AT (2,28)\nEXCEPTION AT (2,31)\nEXCEPTION AT (2,36)\nEXCEPTION AT (2,42)\nEXCEPTION AT (2,45)\nEXCEPTION AT (2,47)\nEXCEPTION AT (2,52)\nEXCEPTION AT (2,57)\nEXCEPTION AT (2,59)\nEXCEPTION AT (2,62)\nEXCEPTION AT (2,64)\nEXCEPTION AT (2,67)\nEXCEPTION AT (2,72)\nEXCEPTION AT (2,73)\nEXCEPTION AT (2,75)\nEXCEPTION AT (2,77)\nEXCEPTION AT (3,4)\nEXCEPTION AT (3,13)\nEXCEPTION AT (3,17)\nEXCEPTION AT (3,21)\nEXCEPTION AT (3,24)\nEXCEPTION AT (3,26)\nEXCEPTION AT (3,31)\nEXCEPTION AT (3,33)\nEXCEPTION AT (3,37)\nEXCEPTION AT (3,42)\nEXCEPTION AT (3,44)\nEXCEPTION AT (3,47)\nEXCEPTION AT (3,48)\nEXCEPTION AT (3,52)\nEXCEPTION AT (3,57)\nEXCEPTION AT (3,58)\nEXCEPTION AT (3,60)\nEXCEPTION AT (3,63)\nEXCEPTION AT (3,64)\nEXCEPTION AT (3,66)\nEXCEPTION AT (3,68)\nEXCEPTION AT (3,69)\nEXCEPTION AT (3,73)\nEXCEPTION AT (3,75)\nEXCEPTION AT (3,78)\nEXCEPTION AT (3,79)\nEXCEPTION AT (3,83)\nEXCEPTION AT (3,86)\nEXCEPTION AT (4,15)\nEXCEPTION AT (4,20)\nEXCEPTION AT (4,25)\nEXCEPTION AT (4,26)\nEXCEPTION AT (4,28)\nEXCEPTION AT (4,30)\nEXCEPTION AT (4,32)\nEXCEPTION AT (4,37)\nEXCEPTION AT (4,38)\nEXCEPTION AT (4,39)\nEXCEPTION AT (4,44)\nEXCEPTION AT (4,49)\nEXCEPTION AT (4,54)\nEXCEPTION AT (4,57)\nEXCEPTION AT (4,59)\nEXCEPTION AT (4,60)\nEXCEPTION AT (4,61)\nEXCEPTION AT (4,64)\nEXCEPTION AT (4,69)\nEXCEPTION AT (4,70)\nEXCEPTION AT (4,74)\nEXCEPTION AT (4,77)\nEXCEPTION AT (4,79)\nEXCEPTION AT (4,82)\nEXCEPTION AT (5,1)\nEXCEPTION AT (5,17)\nEXCEPTION AT (5,22)\nEXCEPTION AT (5,27)\nEXCEPTION AT (5,31)\nEXCEPTION AT (5,33)\nEXCEPTION AT (5,38)\nEXCEPTION AT (5,43)\nEXCEPTION AT (5,46)\nEXCEPTION AT (5,48)\nEXCEPTION AT (5,49)\nEXCEPTION AT (5,53)\nEXCEPTION AT (5,58)\nEXCEPTION AT (5,60)\nEXCEPTION AT (5,61)\nEXCEPTION AT (5,63)\nEXCEPTION AT (5,65)\nEXCEPTION AT (5,68)\nEXCEPTION AT (5,73)\nEXCEPTION AT (5,78)\nEXCEPTION AT (6,16)\nEXCEPTION AT (6,20)\nEXCEPTION AT (6,25)\nEXCEPTION AT (6,30)\nEXCEPTION AT (6,35)\nEXCEPTION AT (6,37)\nEXCEPTION AT (6,40)\nEXCEPTION AT (6,41)\nEXCEPTION AT (6,45)\nEXCEPTION AT (6,46)\nEXCEPTION AT (6,50)\nEXCEPTION AT (6,51)\nEXCEPTION AT (6,54)\nEXCEPTION AT (6,56)\nEXCEPTION AT (6,58)\nEXCEPTION AT (6,61)\nEXCEPTION AT (6,63)\nEXCEPTION AT (6,68)\nEXCEPTION AT (6,70)\nEXCEPTION AT (6,73)\nEXCEPTION AT (6,76)\nEXCEPTION AT (6,78)\nEXCEPTION AT (6,81)\nEXCEPTION AT (7,1)\nEXCEPTION AT (7,2)\nEXCEPTION AT (7,20)\nEXCEPTION AT (7,25)\nEXCEPTION AT (7,29)\nEXCEPTION AT (7,31)\nEXCEPTION AT (7,36)\nEXCEPTION AT (7,41)\nEXCEPTION AT (7,44)\nEXCEPTION AT (7,46)\nEXCEPTION AT (7,48)\nEXCEPTION AT (7,51)\nEXCEPTION AT (7,56)\nEXCEPTION AT (7,57)\nEXCEPTION AT (7,60)\nEXCEPTION AT (7,62)\nEXCEPTION AT (7,64)\nEXCEPTION AT (7,66)\nEXCEPTION AT (7,68)\nEXCEPTION AT (7,72)\nEXCEPTION AT (7,76)\nEXCEPTION AT (7,79)\nEXCEPTION AT (7,82)\nEXCEPTION AT (7,84)\nEXCEPTION AT (7,86)\nEXCEPTION AT (7,89)\nEXCEPTION AT (7,90)\nEXCEPTION AT (7,92)\nEXCEPTION AT (7,94)\nEXCEPTION AT (7,95)\nEXCEPTION AT (7,98)\nEXCEPTION AT (7,100)\nEXCEPTION AT (7,103)\nEXCEPTION AT (7,105)\nEXCEPTION AT (7,107)\nEXCEPTION AT (7,108)\nEXCEPTION AT (7,110)\nEXCEPTION AT (7,112)\nEXCEPTION AT (8,15)\nEXCEPTION AT (8,20)\nEXCEPTION AT (8,25)\nEXCEPTION AT (8,27)\nEXCEPTION AT (8,30)\nEXCEPTION AT (8,35)\nEXCEPTION AT (8,40)\nEXCEPTION AT (8,45)\nEXCEPTION AT (8,47)\nEXCEPTION AT (8,50)\nEXCEPTION AT (8,51)\nEXCEPTION AT (8,54)\nEXCEPTION AT (8,55)\nEXCEPTION AT (8,59)\nEXCEPTION AT (8,64)\nEXCEPTION AT (8,69)\nEXCEPTION AT (8,74)\nEXCEPTION AT (8,77)\nEXCEPTION AT (8,79)\nEXCEPTION AT (8,80)\nEXCEPTION AT (9,6)\nEXCEPTION AT (9,9)\nEXCEPTION AT (9,13)\nEXCEPTION AT (9,16)\nEXCEPTION AT (9,19)\nEXCEPTION AT (9,23)\nEXCEPTION AT (9,25)\nEXCEPTION AT (9,31)\nEXCEPTION AT (9,35)\nEXCEPTION AT (9,37)\nEXCEPTION AT (9,42)\nEXCEPTION AT (9,45)\nEXCEPTION AT (9,48)\nEXCEPTION AT (9,51)\nEXCEPTION AT (9,53)\nEXCEPTION AT (9,56)\nEXCEPTION AT (9,58)\nEXCEPTION AT (9,60)\nEXCEPTION AT (9,63)\nEXCEPTION AT (9,68)\nEXCEPTION AT (9,70)\nEXCEPTION AT (9,73)\nEXCEPTION AT (9,74)\nEXCEPTION AT (9,75)\nEXCEPTION AT (9,78)\nEXCEPTION AT (9,81)\nEXCEPTION AT (9,83)\nEXCEPTION AT (9,84)\nEXCEPTION AT (10,8)\nEXCEPTION AT (10,10)\nEXCEPTION AT (10,14)\nEXCEPTION AT (10,18)\nEXCEPTION AT (10,23)\nEXCEPTION AT (10,25)\nEXCEPTION AT (10,28)\nEXCEPTION AT (10,31)\nEXCEPTION AT (10,35)\nEXCEPTION AT (10,36)\nEXCEPTION AT (10,38)\nEXCEPTION AT (10,41)\nEXCEPTION AT (10,42)\nEXCEPTION AT (10,46)\nEXCEPTION AT (10,51)\nEXCEPTION AT (10,56)\nEXCEPTION AT (10,57)\nEXCEPTION AT (10,60)\nEXCEPTION AT (10,64)\nEXCEPTION AT (10,65)\nEXCEPTION AT (10,67)\nEXCEPTION AT (10,69)\nEXCEPTION AT (10,70)\nEXCEPTION AT (10,72)\nEXCEPTION AT (10,74)\nEXCEPTION AT (10,79)\nEXCEPTION AT (10,81)\nEXCEPTION AT (10,84)\nEXCEPTION AT (10,85)\nEXCEPTION AT (11,15)\nEXCEPTION AT (11,20)\nEXCEPTION AT (11,25)\nEXCEPTION AT (11,30)\nEXCEPTION AT (11,35)\nEXCEPTION AT (11,40)\nEXCEPTION AT (11,42)\nEXCEPTION AT (11,45)\nEXCEPTION AT (11,50)\nEXCEPTION AT (11,55)\nEXCEPTION AT (11,56)\nEXCEPTION AT (11,60)\nEXCEPTION AT (11,65)\nEXCEPTION AT (11,67)\nEXCEPTION AT (11,70)\nEXCEPTION AT (11,75)\n"
    }
   ],
   "source": [
    "getCsv(19)"
   ]
  },
  {
   "cell_type": "code",
   "execution_count": null,
   "metadata": {},
   "outputs": [],
   "source": []
  }
 ]
}